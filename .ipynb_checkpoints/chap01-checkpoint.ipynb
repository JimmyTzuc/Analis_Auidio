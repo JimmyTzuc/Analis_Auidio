{
 "cells": [
  {
   "cell_type": "markdown",
   "metadata": {},
   "source": [
    "### Signals\n",
    "\n",
    "Aquí están los módulos que necesitaremos.\n",
    "\n",
    "\n",
    "* `thinkdsp` es un módulo que acompaña a _Think DSP_ y proporciona clases y funciones para trabajar con señales.\n",
    "\n",
    "* `thinkplot` es un envoltorio alrededor de matplotlib.\n",
    "\n",
    "[Documentation here](http://greenteapress.com/thinkdsp.html). "
   ]
  },
  {
   "cell_type": "code",
   "execution_count": null,
   "metadata": {
    "collapsed": true
   },
   "outputs": [],
   "source": [
    "from __future__ import print_function, division\n",
    "\n",
    "%matplotlib inline\n",
    "\n",
    "import thinkdsp\n",
    "import thinkplot\n",
    "\n",
    "import numpy as np\n",
    "\n",
    "from ipywidgets import interact, interactive, fixed\n",
    "import ipywidgets as widgets\n",
    "from IPython.display import display"
   ]
  },
  {
   "cell_type": "markdown",
   "metadata": {},
   "source": [
    "\n",
    "Instalar señales de coseno y seno."
   ]
  },
  {
   "cell_type": "code",
   "execution_count": null,
   "metadata": {
    "collapsed": true
   },
   "outputs": [],
   "source": [
    "cos_sig = thinkdsp.CosSignal(freq=440, amp=1.0, offset=0)\n",
    "sin_sig = thinkdsp.SinSignal(freq=880, amp=0.5, offset=0)"
   ]
  },
  {
   "cell_type": "markdown",
   "metadata": {},
   "source": [
    "Trazar las señales de seno y coseno. Por defecto,`plot`  traza tres periodos."
   ]
  },
  {
   "cell_type": "code",
   "execution_count": null,
   "metadata": {},
   "outputs": [],
   "source": [
    "cos_sig.plot()\n",
    "thinkplot.config(xlabel='Time (s)')"
   ]
  },
  {
   "cell_type": "markdown",
   "metadata": {},
   "source": [
    "Observe que la frecuencia de la señal sinusoidal se duplica, por lo que el período se reduce a la mitad."
   ]
  },
  {
   "cell_type": "code",
   "execution_count": null,
   "metadata": {},
   "outputs": [],
   "source": [
    "sin_sig.plot()\n",
    "thinkplot.config(xlabel='Time (s)')"
   ]
  },
  {
   "cell_type": "markdown",
   "metadata": {},
   "source": [
    "La suma de dos señales es un SumSignal."
   ]
  },
  {
   "cell_type": "code",
   "execution_count": null,
   "metadata": {},
   "outputs": [],
   "source": [
    "mix = sin_sig + cos_sig\n",
    "mix"
   ]
  },
  {
   "cell_type": "markdown",
   "metadata": {},
   "source": [
    "Aqui la documentacion de `thinkdsp.py`: http://greenteapress.com/thinkdsp/thinkdsp.html"
   ]
  },
  {
   "cell_type": "markdown",
   "metadata": {},
   "source": [
    "### Waves\n",
    "Una señal representa una función matemática definida para todos los valores de tiempo. Si evalúa una señal en una secuencia de tiempos igualmente espaciados, el resultado es una onda.  `framerate` Es el número de samples por segundo."
   ]
  },
  {
   "cell_type": "code",
   "execution_count": null,
   "metadata": {},
   "outputs": [],
   "source": [
    "wave = mix.make_wave(duration=0.5, start=0, framerate=11025)\n",
    "wave"
   ]
  },
  {
   "cell_type": "markdown",
   "metadata": {},
   "source": [
    "IPython proporciona un widget de audio que puede reproducir una onda."
   ]
  },
  {
   "cell_type": "code",
   "execution_count": null,
   "metadata": {},
   "outputs": [],
   "source": [
    "from IPython.display import Audio\n",
    "audio = Audio(data=wave.ys, rate=wave.framerate)\n",
    "audio"
   ]
  },
  {
   "cell_type": "markdown",
   "metadata": {},
   "source": [
    "Wave también proporciona make_audio (), que hace lo mismo:"
   ]
  },
  {
   "cell_type": "code",
   "execution_count": null,
   "metadata": {},
   "outputs": [],
   "source": [
    "wave.make_audio()"
   ]
  },
  {
   "cell_type": "markdown",
   "metadata": {},
   "source": [
    "El atributo `ys` es una matriz NumPy que contiene los valores de la señal. El intervalo entre muestras es el inverso del framerate."
   ]
  },
  {
   "cell_type": "code",
   "execution_count": null,
   "metadata": {},
   "outputs": [],
   "source": [
    "print('Number of samples', len(wave.ys))\n",
    "print('Timestep in ms', 1 / wave.framerate * 1000)"
   ]
  },
  {
   "cell_type": "markdown",
   "metadata": {},
   "source": [
    "Los objetos de señal que representan señales periódicas tienen un atributo de `period`.\n",
    "\n",
    "Wave proporciona `segment`, que crea una nueva wave. Así que podemos sacar un segmento de 3 períodos de esta ola."
   ]
  },
  {
   "cell_type": "code",
   "execution_count": null,
   "metadata": {},
   "outputs": [],
   "source": [
    "period = mix.period\n",
    "segment = wave.segment(start=0, duration=period*3)\n",
    "period"
   ]
  },
  {
   "cell_type": "markdown",
   "metadata": {},
   "source": [
    "Wave proporciona`plot`"
   ]
  },
  {
   "cell_type": "code",
   "execution_count": null,
   "metadata": {},
   "outputs": [],
   "source": [
    "segment.plot()\n",
    "thinkplot.config(xlabel='Time (s)')"
   ]
  },
  {
   "cell_type": "markdown",
   "metadata": {},
   "source": [
    "`normalize` scales a wave so the range doesn't exceed -1 to 1.\n",
    "\n",
    "`apodize` tapers the beginning and end of the wave so it doesn't click when you play it."
   ]
  },
  {
   "cell_type": "code",
   "execution_count": null,
   "metadata": {},
   "outputs": [],
   "source": [
    "wave.normalize()\n",
    "wave.apodize()\n",
    "wave.plot()\n",
    "thinkplot.config(xlabel='Time (s)')"
   ]
  },
  {
   "cell_type": "markdown",
   "metadata": {},
   "source": [
    "You can write a wave to a WAV file."
   ]
  },
  {
   "cell_type": "code",
   "execution_count": null,
   "metadata": {},
   "outputs": [],
   "source": [
    "wave.write('temp.wav')"
   ]
  },
  {
   "cell_type": "markdown",
   "metadata": {},
   "source": [
    "`wave.write` writes the wave to a file so it can be used by an exernal player."
   ]
  },
  {
   "cell_type": "code",
   "execution_count": null,
   "metadata": {
    "collapsed": true
   },
   "outputs": [],
   "source": [
    "thinkdsp.play_wave(filename='temp.wav', player='aplay')"
   ]
  },
  {
   "cell_type": "markdown",
   "metadata": {},
   "source": [
    "`read_wave` reads WAV files.  The WAV examples in the book are from freesound.org.  In the contributors section of the book, I list and thank the people who uploaded the sounds I use."
   ]
  },
  {
   "cell_type": "code",
   "execution_count": null,
   "metadata": {
    "collapsed": true
   },
   "outputs": [],
   "source": [
    "wave = thinkdsp.read_wave('92002__jcveliz__violin-origional.wav')"
   ]
  },
  {
   "cell_type": "code",
   "execution_count": null,
   "metadata": {},
   "outputs": [],
   "source": [
    "wave.make_audio()"
   ]
  },
  {
   "cell_type": "markdown",
   "metadata": {},
   "source": [
    "I pulled out a segment of this recording where the pitch is constant.  When we plot the segment, we can't see the waveform clearly, but we can see the \"envelope\", which tracks the change in amplitude during the segment."
   ]
  },
  {
   "cell_type": "code",
   "execution_count": null,
   "metadata": {},
   "outputs": [],
   "source": [
    "start = 1.2\n",
    "duration = 0.6\n",
    "segment = wave.segment(start, duration)\n",
    "segment.plot()\n",
    "thinkplot.config(xlabel='Time (s)')"
   ]
  },
  {
   "cell_type": "markdown",
   "metadata": {},
   "source": [
    "### Spectrums\n",
    "\n",
    "Wave provides `make_spectrum`, which computes the spectrum of the wave."
   ]
  },
  {
   "cell_type": "code",
   "execution_count": null,
   "metadata": {
    "collapsed": true
   },
   "outputs": [],
   "source": [
    "spectrum = segment.make_spectrum()"
   ]
  },
  {
   "cell_type": "markdown",
   "metadata": {},
   "source": [
    "Spectrum provides `plot`"
   ]
  },
  {
   "cell_type": "code",
   "execution_count": null,
   "metadata": {},
   "outputs": [],
   "source": [
    "spectrum.plot()\n",
    "thinkplot.config(xlabel='Frequency (Hz)')"
   ]
  },
  {
   "cell_type": "markdown",
   "metadata": {},
   "source": [
    "The frequency components above 10 kHz are small.  We can see the lower frequencies more clearly by providing an upper bound:"
   ]
  },
  {
   "cell_type": "code",
   "execution_count": null,
   "metadata": {},
   "outputs": [],
   "source": [
    "spectrum.plot(high=10000)\n",
    "thinkplot.config(xlabel='Frequency (Hz)')"
   ]
  },
  {
   "cell_type": "markdown",
   "metadata": {},
   "source": [
    "Spectrum provides `low_pass`, which applies a low pass filter; that is, it attenuates all frequency components above a cutoff frequency."
   ]
  },
  {
   "cell_type": "code",
   "execution_count": null,
   "metadata": {
    "collapsed": true
   },
   "outputs": [],
   "source": [
    "spectrum.low_pass(3000)"
   ]
  },
  {
   "cell_type": "markdown",
   "metadata": {},
   "source": [
    "The result is a spectrum with fewer components."
   ]
  },
  {
   "cell_type": "code",
   "execution_count": null,
   "metadata": {},
   "outputs": [],
   "source": [
    "spectrum.plot(high=10000)\n",
    "thinkplot.config(xlabel='Frequency (Hz)')"
   ]
  },
  {
   "cell_type": "markdown",
   "metadata": {},
   "source": [
    "We can convert the filtered spectrum back to a wave:"
   ]
  },
  {
   "cell_type": "code",
   "execution_count": null,
   "metadata": {
    "collapsed": true
   },
   "outputs": [],
   "source": [
    "filtered = spectrum.make_wave()"
   ]
  },
  {
   "cell_type": "markdown",
   "metadata": {},
   "source": [
    "And then normalize it to the range -1 to 1."
   ]
  },
  {
   "cell_type": "code",
   "execution_count": null,
   "metadata": {
    "collapsed": true
   },
   "outputs": [],
   "source": [
    "filtered.normalize()"
   ]
  },
  {
   "cell_type": "markdown",
   "metadata": {},
   "source": [
    "Before playing it back, I'll apodize it (to avoid clicks)."
   ]
  },
  {
   "cell_type": "code",
   "execution_count": null,
   "metadata": {},
   "outputs": [],
   "source": [
    "filtered.apodize()\n",
    "filtered.plot()\n",
    "thinkplot.config(xlabel='Time (s)')"
   ]
  },
  {
   "cell_type": "markdown",
   "metadata": {},
   "source": [
    "And I'll do the same with the original segment."
   ]
  },
  {
   "cell_type": "code",
   "execution_count": null,
   "metadata": {},
   "outputs": [],
   "source": [
    "segment.normalize()\n",
    "segment.apodize()\n",
    "segment.plot()\n",
    "thinkplot.config(xlabel='Time (s)')"
   ]
  },
  {
   "cell_type": "markdown",
   "metadata": {},
   "source": [
    "Finally, we can listen to the original segment and the filtered version."
   ]
  },
  {
   "cell_type": "code",
   "execution_count": null,
   "metadata": {},
   "outputs": [],
   "source": [
    "segment.make_audio()"
   ]
  },
  {
   "cell_type": "code",
   "execution_count": null,
   "metadata": {},
   "outputs": [],
   "source": [
    "filtered.make_audio()"
   ]
  },
  {
   "cell_type": "markdown",
   "metadata": {},
   "source": [
    "The original sounds more complex, with some high-frequency components that sound buzzy.\n",
    "The filtered version sounds more like a pure tone, with a more muffled quality.  The cutoff frequency I chose, 3000 Hz, is similar to the quality of a telephone line, so this example simulates the sound of a violin recording played over a telephone."
   ]
  },
  {
   "cell_type": "markdown",
   "metadata": {},
   "source": [
    "**Exercise 1:** Run the code in the following cells to create a `Signal` with two frequency components, and then create a `Wave` that contains a half-second sample from the `Signal`.\n",
    "\n",
    "Add code to compute and plot the `Spectrum` of this `Wave`.\n",
    "\n",
    "Then add another `Signal` to the mix, recompute the `Wave` and look at the `Spectrum`."
   ]
  },
  {
   "cell_type": "code",
   "execution_count": null,
   "metadata": {},
   "outputs": [],
   "source": [
    "cos_sig = thinkdsp.CosSignal(freq=440, amp=1.0, offset=0)\n",
    "sin_sig = thinkdsp.SinSignal(freq=880, amp=0.5, offset=0)\n",
    "mix = cos_sig + sin_sig\n",
    "mix.plot()"
   ]
  },
  {
   "cell_type": "code",
   "execution_count": null,
   "metadata": {},
   "outputs": [],
   "source": [
    "wave = mix.make_wave(duration=0.5, start=0, framerate=11025)\n",
    "wave.plot()"
   ]
  },
  {
   "cell_type": "markdown",
   "metadata": {},
   "source": [
    "### Interaction\n",
    "\n",
    "The following example shows how to use interactive IPython widgets."
   ]
  },
  {
   "cell_type": "code",
   "execution_count": null,
   "metadata": {
    "collapsed": true
   },
   "outputs": [],
   "source": [
    "def filter_wave(wave, start, duration, cutoff):\n",
    "    \"\"\"Selects a segment from the wave and filters it.\n",
    "    \n",
    "    Plots the spectrum and displays an Audio widget.\n",
    "    \n",
    "    wave: Wave object\n",
    "    start: time in s\n",
    "    duration: time in s\n",
    "    cutoff: frequency in Hz\n",
    "    \"\"\"\n",
    "    segment = wave.segment(start, duration)\n",
    "    spectrum = segment.make_spectrum()\n",
    "\n",
    "    spectrum.plot(color='0.7')\n",
    "    spectrum.low_pass(cutoff)\n",
    "    spectrum.plot(color='#045a8d')\n",
    "    thinkplot.show(xlabel='Frequency (Hz)')\n",
    "    \n",
    "    audio = spectrum.make_wave().make_audio()\n",
    "    display(audio)"
   ]
  },
  {
   "cell_type": "markdown",
   "metadata": {},
   "source": [
    "Adjust the sliders to control the start and duration of the segment and the cutoff frequency applied to the spectrum."
   ]
  },
  {
   "cell_type": "code",
   "execution_count": null,
   "metadata": {},
   "outputs": [],
   "source": [
    "wave = thinkdsp.read_wave('92002__jcveliz__violin-origional.wav')\n",
    "interact(filter_wave, wave=fixed(wave), \n",
    "         start=(0, 5, 0.1), duration=(0, 5, 0.1), cutoff=(0, 10000, 100));"
   ]
  }
 ],
 "metadata": {
  "kernelspec": {
   "display_name": "Python 3",
   "language": "python",
   "name": "python3"
  },
  "language_info": {
   "codemirror_mode": {
    "name": "ipython",
    "version": 3
   },
   "file_extension": ".py",
   "mimetype": "text/x-python",
   "name": "python",
   "nbconvert_exporter": "python",
   "pygments_lexer": "ipython3",
   "version": "3.7.1"
  }
 },
 "nbformat": 4,
 "nbformat_minor": 2
}
